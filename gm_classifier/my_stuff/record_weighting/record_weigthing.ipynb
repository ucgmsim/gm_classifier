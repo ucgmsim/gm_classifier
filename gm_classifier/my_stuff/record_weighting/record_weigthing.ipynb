{
 "cells": [
  {
   "cell_type": "markdown",
   "source": [
    "### Impact of using records with 1.0 > scores < 0.0\n",
    "None of these records were used for training in the original paper, \n",
    "does including these have any influence on performance"
   ],
   "metadata": {
    "collapsed": false,
    "pycharm": {
     "name": "#%% md\n"
    }
   }
  },
  {
   "cell_type": "code",
   "execution_count": null,
   "outputs": [],
   "source": [
    "from pathlib import Path\n",
    "\n",
    "import pandas as pd\n",
    "import numpy as np\n",
    "\n",
    "import gm_classifier as gm"
   ],
   "metadata": {
    "collapsed": false,
    "pycharm": {
     "name": "#%% Imports\n"
    }
   }
  },
  {
   "cell_type": "code",
   "execution_count": null,
   "outputs": [],
   "source": [
    "base_dir = Path(\"/Users/Clus/code/work/gm_classifier/\")\n",
    "\n",
    "feature_ffp = base_dir / \"data/records/ObservedGroundMotions_GMC_features.csv\"\n",
    "label_ffp = base_dir / \"data/records/ObservedGroundMotions_GMC_labels.csv\"\n",
    "\n",
    "feature_df = pd.read_csv(feature_ffp, index_col=\"record_id\")\n",
    "label_df = pd.read_csv(label_ffp, index_col=\"record_id\")\n",
    "\n",
    "print(f\"Active shallow feature & label DF shapes\")\n",
    "print(feature_df.shape)\n",
    "print(label_df.shape)\n",
    "\n",
    "\n"
   ],
   "metadata": {
    "collapsed": false,
    "pycharm": {
     "name": "#%% Load the data\n"
    }
   }
  }
 ],
 "metadata": {
  "kernelspec": {
   "display_name": "Python 3",
   "language": "python",
   "name": "python3"
  },
  "language_info": {
   "codemirror_mode": {
    "name": "ipython",
    "version": 2
   },
   "file_extension": ".py",
   "mimetype": "text/x-python",
   "name": "python",
   "nbconvert_exporter": "python",
   "pygments_lexer": "ipython2",
   "version": "2.7.6"
  },
  "pycharm": {
   "stem_cell": {
    "cell_type": "raw",
    "source": [],
    "metadata": {
     "collapsed": false
    }
   }
  }
 },
 "nbformat": 4,
 "nbformat_minor": 0
}