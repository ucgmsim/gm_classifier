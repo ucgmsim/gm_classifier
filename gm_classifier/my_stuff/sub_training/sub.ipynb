{
 "cells": [
  {
   "cell_type": "code",
   "execution_count": 16,
   "metadata": {
    "collapsed": true,
    "pycharm": {
     "name": "#%% Imports\n",
     "is_executing": false
    }
   },
   "outputs": [],
   "source": [
    "from pathlib import Path\n",
    "\n",
    "import pandas as pd\n",
    "import numpy as np\n",
    "\n",
    "import gm_classifier as gm"
   ]
  },
  {
   "cell_type": "code",
   "execution_count": 17,
   "outputs": [
    {
     "name": "stdout",
     "text": [
      "Active shallow feature & label DF shapes\n",
      "(12698, 22)\n",
      "(8467, 3)\n",
      "\n",
      "Subduction feature & label DF shapes\n",
      "(125, 22)\n",
      "(126, 3)\n",
      "\n",
      "Combined shapes\n",
      "(12823, 22)\n",
      "(8593, 2)\n"
     ],
     "output_type": "stream"
    }
   ],
   "source": [
    "base_dir = Path(\"/Users/Clus/code/work/gm_classifier/\")\n",
    "\n",
    "shallow_feature_ffp = base_dir / \"data/records/ObservedGroundMotions_GMC_features.csv\"\n",
    "shallow_label_ffp = base_dir / \"data/records/ObservedGroundMotions_GMC_labels.csv\"\n",
    "\n",
    "shallow_feature_df = pd.read_csv(shallow_feature_ffp, index_col=\"record_id\")\n",
    "shallow_label_df = pd.read_csv(shallow_label_ffp, index_col=\"record_id\")\n",
    "\n",
    "print(f\"Active shallow feature & label DF shapes\")\n",
    "print(shallow_feature_df.shape)\n",
    "print(shallow_label_df.shape)\n",
    "\n",
    "sub_feature_ffp = base_dir / \"data/records/sub_features.csv\" \n",
    "sub_label_ffp = base_dir / \"data/records/sub_labels.csv\"\n",
    "\n",
    "sub_feature_df = pd.read_csv(sub_feature_ffp, index_col=\"record_id\")\n",
    "sub_label_df = pd.read_csv(sub_label_ffp, index_col=\"record_id\")\n",
    "sub_record_ids = sub_feature_df.index.values.astype(str)\n",
    "\n",
    "print(\"\\nSubduction feature & label DF shapes\")\n",
    "print(sub_feature_df.shape)\n",
    "print(sub_label_df.shape)\n",
    "\n",
    "feature_df = pd.concat([shallow_feature_df, sub_feature_df])\n",
    "label_df = pd.concat([shallow_label_df, sub_label_df])\n",
    "label_df.drop(columns=[\"source_id\", \"event\"], inplace=True)\n",
    "\n",
    "print(\"\\nCombined shapes\")\n",
    "print(feature_df.shape)\n",
    "print(label_df.shape)"
   ],
   "metadata": {
    "collapsed": false,
    "pycharm": {
     "name": "#%% Load the data\n",
     "is_executing": false
    }
   }
  },
  {
   "cell_type": "markdown",
   "source": [
    "## Active shallow only\n",
    "Train on active shallow only and see how it performs on subduction "
   ],
   "metadata": {
    "collapsed": false,
    "pycharm": {
     "name": "#%% md\n"
    }
   }
  },
  {
   "cell_type": "code",
   "execution_count": null,
   "outputs": [],
   "source": [
    "config = {\n",
    "  \"model\": {\n",
    "    \"units\": [15, 15],\n",
    "    \"act_funcs\": \"relu\",\n",
    "    \"output_act_func\": \"sigmoid\"\n",
    "  },\n",
    "  \"training\": {\n",
    "    \"optimizer\": \"Adam\",\n",
    "    \"loss\": \"binary_crossentropy\",\n",
    "    \"n_epochs\": 30,\n",
    "    \"batch_size\": 32,\n",
    "    \"dropout\": 0.5\n",
    "  },\n",
    "  \"preprocessing\":{\n",
    "    \"deskew\": \"canterbury_wellington\",\n",
    "    \"standardise\": True,\n",
    "    \"whiten\": True\n",
    "  }\n",
    "}\n",
    "\n",
    "output_dir = base_dir / \"my_stuff/sub_training\"\n",
    "\n",
    "gm.training.train(output_dir, shallow_feature_df, shallow_label_df, config, val_split=0.1)\n",
    "\n",
    "\n"
   ],
   "metadata": {
    "collapsed": false,
    "pycharm": {
     "name": "#%%\n"
    }
   }
  }
 ],
 "metadata": {
  "kernelspec": {
   "display_name": "Python 3",
   "language": "python",
   "name": "python3"
  },
  "language_info": {
   "codemirror_mode": {
    "name": "ipython",
    "version": 2
   },
   "file_extension": ".py",
   "mimetype": "text/x-python",
   "name": "python",
   "nbconvert_exporter": "python",
   "pygments_lexer": "ipython2",
   "version": "2.7.6"
  },
  "pycharm": {
   "stem_cell": {
    "cell_type": "raw",
    "source": [],
    "metadata": {
     "collapsed": false
    }
   }
  }
 },
 "nbformat": 4,
 "nbformat_minor": 0
}