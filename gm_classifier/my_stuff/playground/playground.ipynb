{
 "cells": [
  {
   "cell_type": "code",
   "execution_count": 1,
   "outputs": [
    {
     "name": "stderr",
     "text": [
      "/Users/Clus/code/Envs/work_gm_classifier/lib/python3.7/site-packages/obspy/signal/headers.py:93: FutureWarning: Passing (type, 1) or '1type' as a synonym of type is deprecated; in a future version of numpy, it will be understood as (type, (1,)) / '(1,)type'.\n",
      "  ], align=True)\n"
     ],
     "output_type": "stream"
    }
   ],
   "source": [
    "import shutil\n",
    "from pathlib import Path\n",
    "\n",
    "import pandas as pd\n",
    "import numpy as np\n",
    "\n",
    "import gm_classifier as gm\n",
    "\n",
    "base_dir = Path(\"/Users/Clus/code/work/gm_classifier\")"
   ],
   "metadata": {
    "collapsed": false,
    "pycharm": {
     "name": "#%% Imports\n",
     "is_executing": false
    }
   }
  },
  {
   "cell_type": "code",
   "execution_count": 2,
   "outputs": [
    {
     "name": "stdout",
     "text": [
      "Feature & label DF shapes\n",
      "(12698, 22)\n",
      "(8467, 3)\n"
     ],
     "output_type": "stream"
    }
   ],
   "source": [
    "base_dir = Path(\"/Users/Clus/code/work/gm_classifier/\")\n",
    "\n",
    "feature_ffp = base_dir / \"data/records/ObservedGroundMotions_GMC_features.csv\"\n",
    "label_ffp = base_dir / \"data/records/ObservedGroundMotions_GMC_labels.csv\"\n",
    "\n",
    "feature_df = pd.read_csv(feature_ffp, index_col=\"record_id\")\n",
    "label_df = pd.read_csv(label_ffp, index_col=\"record_id\")\n",
    "\n",
    "print(f\"Feature & label DF shapes\")\n",
    "print(feature_df.shape)\n",
    "print(label_df.shape)\n"
   ],
   "metadata": {
    "collapsed": false,
    "pycharm": {
     "name": "#%% Load the data\n",
     "is_executing": false
    }
   }
  },
  {
   "cell_type": "code",
   "execution_count": 3,
   "outputs": [
    {
     "name": "stdout",
     "text": [
      "Training F1 - mean: 0.989 std: 0.002\n",
      "Validation F1 - mean: 0.975 std: 0.005\n"
     ],
     "output_type": "stream"
    }
   ],
   "source": [
    "config = {\n",
    "  \"model\": {\n",
    "    \"units\": [15, 15],\n",
    "    \"act_funcs\": \"relu\",\n",
    "    \"output_act_func\": \"sigmoid\"\n",
    "  },\n",
    "  \"training\": {\n",
    "    \"optimizer\": \"Adam\",\n",
    "    \"loss\": \"binary_crossentropy\",\n",
    "    \"n_epochs\": 30,\n",
    "    \"batch_size\": 32,\n",
    "    \"dropout\": 0.5\n",
    "  },\n",
    "  \"preprocessing\":{\n",
    "    \"deskew\": \"canterbury_wellington\",\n",
    "    \"standardise\": True,\n",
    "    \"whiten\": True\n",
    "  }\n",
    "}\n",
    "\n",
    "\n",
    "output_dir = base_dir / \"gm_classifier/my_stuff/playground/model\"\n",
    "if output_dir.is_dir():\n",
    "\tshutil.rmtree(output_dir)\n",
    "output_dir.mkdir()\n",
    "\n",
    "train_df_1, result_df_1, loss_1 = gm.validation.k_fold(output_dir, \n",
    "                     feature_df, label_df, config, gm.validation.eval)\n",
    "\n",
    "\n",
    "print(f\"Training F1 - mean: {np.mean(result_df_1.f1_train):.3f} \"\n",
    "      f\"std: {np.std(result_df_1.f1_train):.3f}\")\n",
    "print(f\"Validation F1 - mean: {np.mean(result_df_1.f1_val):.3f} \"\n",
    "      f\"std: {np.std(result_df_1.f1_val):.3f}\")"
   ],
   "metadata": {
    "collapsed": false,
    "pycharm": {
     "name": "#%% \n",
     "is_executing": false
    }
   }
  },
  {
   "cell_type": "code",
   "execution_count": 4,
   "outputs": [
    {
     "name": "stdout",
     "text": [
      "Training F1 - mean: 0.992 std: 0.001\n",
      "Validation F1 - mean: 0.974 std: 0.006\n"
     ],
     "output_type": "stream"
    }
   ],
   "source": [
    "config = {\n",
    "  \"model\": {\n",
    "    \"units\": [20, 20],\n",
    "    \"act_funcs\": \"relu\",\n",
    "    \"output_act_func\": \"sigmoid\"\n",
    "  },\n",
    "  \"training\": {\n",
    "    \"optimizer\": \"Adam\",\n",
    "    \"loss\": \"binary_crossentropy\",\n",
    "    \"n_epochs\": 30,\n",
    "    \"batch_size\": 32,\n",
    "    \"dropout\": 0.5\n",
    "  },\n",
    "  \"preprocessing\":{\n",
    "    \"deskew\": \"canterbury_wellington\",\n",
    "    \"standardise\": True,\n",
    "    \"whiten\": True\n",
    "  }\n",
    "}\n",
    "\n",
    "\n",
    "output_dir = base_dir / \"gm_classifier/my_stuff/playground/model\"\n",
    "if output_dir.is_dir():\n",
    "\tshutil.rmtree(output_dir)\n",
    "output_dir.mkdir()\n",
    "\n",
    "train_df_2, result_df_2, loss_2 = gm.validation.k_fold(output_dir, \n",
    "                     feature_df, label_df, config, gm.validation.eval)\n",
    "\n",
    "\n",
    "print(f\"Training F1 - mean: {np.mean(result_df_2.f1_train):.3f} \"\n",
    "      f\"std: {np.std(result_df_2.f1_train):.3f}\")\n",
    "print(f\"Validation F1 - mean: {np.mean(result_df_2.f1_val):.3f} \"\n",
    "      f\"std: {np.std(result_df_2.f1_val):.3f}\")\n",
    "\n",
    "\n"
   ],
   "metadata": {
    "collapsed": false,
    "pycharm": {
     "name": "#%%\n",
     "is_executing": false
    }
   }
  }
 ],
 "metadata": {
  "kernelspec": {
   "display_name": "Python 3",
   "language": "python",
   "name": "python3"
  },
  "language_info": {
   "codemirror_mode": {
    "name": "ipython",
    "version": 2
   },
   "file_extension": ".py",
   "mimetype": "text/x-python",
   "name": "python",
   "nbconvert_exporter": "python",
   "pygments_lexer": "ipython2",
   "version": "2.7.6"
  },
  "pycharm": {
   "stem_cell": {
    "cell_type": "raw",
    "source": [],
    "metadata": {
     "collapsed": false
    }
   }
  }
 },
 "nbformat": 4,
 "nbformat_minor": 0
}